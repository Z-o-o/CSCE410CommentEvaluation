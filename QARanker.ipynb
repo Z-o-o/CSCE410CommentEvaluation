{
 "cells": [
  {
   "cell_type": "code",
   "execution_count": 1,
   "id": "6466d3fa-ceae-4135-b45d-cb4ab3f62cec",
   "metadata": {
    "tags": []
   },
   "outputs": [
    {
     "name": "stderr",
     "output_type": "stream",
     "text": [
      "C:\\Users\\brady\\source\\repos\\CSCE410CommentEvaluation\\venv\\lib\\site-packages\\tqdm\\auto.py:21: TqdmWarning: IProgress not found. Please update jupyter and ipywidgets. See https://ipywidgets.readthedocs.io/en/stable/user_install.html\n",
      "  from .autonotebook import tqdm as notebook_tqdm\n"
     ]
    }
   ],
   "source": [
    "import predict"
   ]
  },
  {
   "cell_type": "code",
   "execution_count": 2,
   "id": "3cf30af1-840a-42d6-81c4-92d5580ad8ad",
   "metadata": {
    "tags": []
   },
   "outputs": [
    {
     "name": "stdout",
     "output_type": "stream",
     "text": [
      "Ranked answers for given question \"I'm trying to center a <div> horizontally.I already have text-align: center; on the <div> itself, but it does not work.Any suggestions?\": \n",
      "1: One way :<div align='center'>you content</div> Better way:<div id='myDiv'>you content</div> CSS for myDIV:#myDiv{ margin:0px auto; } (Good Answer with 62.8% confidence)\n",
      "2: Create a table with single row and three columns, set left and right width to 100% and voila, the middle one gets centered automatically  (Good Answer with 52.9% confidence)\n",
      "3: The text-align: center; only centers the element's inline contents, not the element itself. If it is a block element (a div is), you need to set margin: 0 auto;, else if it is an inlineelement, you need to set the text-align: center; on its parent element instead.The margin: 0 auto; will set top and bottom margin to 0 and left and right margin to auto(of the same size) so that it automagically puts itself in the center. This only works if the block element in question has a known width (either fixed or relative), else it cannot figure where to start and end. (Bad Answer with 53.2% confidence)\n"
     ]
    }
   ],
   "source": [
    "predict.main('example_input.json')"
   ]
  },
  {
   "cell_type": "code",
   "execution_count": null,
   "id": "ee97fcc7-1080-4b36-9856-7904befc6e60",
   "metadata": {},
   "outputs": [],
   "source": []
  }
 ],
 "metadata": {
  "kernelspec": {
   "display_name": "Python 3 (ipykernel)",
   "language": "python",
   "name": "python3"
  },
  "language_info": {
   "codemirror_mode": {
    "name": "ipython",
    "version": 3
   },
   "file_extension": ".py",
   "mimetype": "text/x-python",
   "name": "python",
   "nbconvert_exporter": "python",
   "pygments_lexer": "ipython3",
   "version": "3.10.2"
  }
 },
 "nbformat": 4,
 "nbformat_minor": 5
}
